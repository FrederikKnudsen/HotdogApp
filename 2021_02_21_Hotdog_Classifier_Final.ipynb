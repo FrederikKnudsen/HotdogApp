{
  "nbformat": 4,
  "nbformat_minor": 0,
  "metadata": {
    "colab": {
      "name": "2021-02-21-Hotdog-Classifier-Final.ipynb",
      "provenance": [],
      "collapsed_sections": []
    },
    "kernelspec": {
      "name": "python3",
      "display_name": "Python 3"
    },
    "widgets": {
      "application/vnd.jupyter.widget-state+json": {
        "442347bd8a5f4d7cb78a6df032c70163": {
          "model_module": "@jupyter-widgets/controls",
          "model_name": "VBoxModel",
          "state": {
            "_view_name": "VBoxView",
            "_dom_classes": [],
            "_model_name": "VBoxModel",
            "_view_module": "@jupyter-widgets/controls",
            "_model_module_version": "1.5.0",
            "_view_count": null,
            "_view_module_version": "1.5.0",
            "box_style": "",
            "layout": "IPY_MODEL_7c6f26dfa05546e6b6ed3a8314d45233",
            "_model_module": "@jupyter-widgets/controls",
            "children": [
              "IPY_MODEL_5994b1d5c3804c3fbdbf0fe23a0a39c8",
              "IPY_MODEL_7f8a139741aa47dcb36b0b9612d6730d",
              "IPY_MODEL_ef72bd11654e4888bb60c7fdb3315233",
              "IPY_MODEL_a0c0bd1aa5f54c53bee60dd88262ec4f"
            ]
          }
        },
        "7c6f26dfa05546e6b6ed3a8314d45233": {
          "model_module": "@jupyter-widgets/base",
          "model_name": "LayoutModel",
          "state": {
            "_view_name": "LayoutView",
            "grid_template_rows": null,
            "right": null,
            "justify_content": null,
            "_view_module": "@jupyter-widgets/base",
            "overflow": null,
            "_model_module_version": "1.2.0",
            "_view_count": null,
            "flex_flow": null,
            "width": null,
            "min_width": null,
            "border": null,
            "align_items": null,
            "bottom": null,
            "_model_module": "@jupyter-widgets/base",
            "top": null,
            "grid_column": null,
            "overflow_y": null,
            "overflow_x": null,
            "grid_auto_flow": null,
            "grid_area": null,
            "grid_template_columns": null,
            "flex": null,
            "_model_name": "LayoutModel",
            "justify_items": null,
            "grid_row": null,
            "max_height": null,
            "align_content": null,
            "visibility": null,
            "align_self": null,
            "height": null,
            "min_height": null,
            "padding": null,
            "grid_auto_rows": null,
            "grid_gap": null,
            "max_width": null,
            "order": null,
            "_view_module_version": "1.2.0",
            "grid_template_areas": null,
            "object_position": null,
            "object_fit": null,
            "grid_auto_columns": null,
            "margin": null,
            "display": null,
            "left": null
          }
        },
        "5994b1d5c3804c3fbdbf0fe23a0a39c8": {
          "model_module": "@jupyter-widgets/controls",
          "model_name": "LabelModel",
          "state": {
            "_view_name": "LabelView",
            "style": "IPY_MODEL_24f127111e2a4f768039478b6e2bd718",
            "_dom_classes": [],
            "description": "",
            "_model_name": "LabelModel",
            "placeholder": "​",
            "_view_module": "@jupyter-widgets/controls",
            "_model_module_version": "1.5.0",
            "value": "Select your bear!",
            "_view_count": null,
            "_view_module_version": "1.5.0",
            "description_tooltip": null,
            "_model_module": "@jupyter-widgets/controls",
            "layout": "IPY_MODEL_0425d79e1f8b420290f0deca5a918517"
          }
        },
        "7f8a139741aa47dcb36b0b9612d6730d": {
          "model_module": "@jupyter-widgets/controls",
          "model_name": "FileUploadModel",
          "state": {
            "_view_name": "FileUploadView",
            "_counter": 1,
            "style": "IPY_MODEL_8637f096f8a34c8eb0bc64884f9ef967",
            "_dom_classes": [],
            "description": "Upload",
            "multiple": false,
            "_model_name": "FileUploadModel",
            "data": [
              null
            ],
            "button_style": "",
            "_view_module": "@jupyter-widgets/controls",
            "_model_module_version": "1.5.0",
            "accept": "",
            "_view_count": null,
            "disabled": false,
            "_view_module_version": "1.5.0",
            "error": "",
            "description_tooltip": null,
            "metadata": [
              {
                "name": "photo-1503023345310-bd7c1de61c7d.jfif",
                "type": "image/jpeg",
                "size": 172089,
                "lastModified": 1613905358423
              }
            ],
            "_model_module": "@jupyter-widgets/controls",
            "layout": "IPY_MODEL_518c6ca7bd9d4cb6a064e16648306f35",
            "icon": "upload"
          }
        },
        "ef72bd11654e4888bb60c7fdb3315233": {
          "model_module": "@jupyter-widgets/output",
          "model_name": "OutputModel",
          "state": {
            "_view_name": "OutputView",
            "msg_id": "",
            "_dom_classes": [],
            "_model_name": "OutputModel",
            "outputs": [
              {
                "output_type": "display_data",
                "metadata": {
                  "tags": []
                },
                "image/png": "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\n",
                "text/plain": "<PIL.Image.Image image mode=RGB size=102x128 at 0x7FE3EB9479E8>"
              }
            ],
            "_view_module": "@jupyter-widgets/output",
            "_model_module_version": "1.0.0",
            "_view_count": null,
            "_view_module_version": "1.0.0",
            "layout": "IPY_MODEL_7904743064ae4116ac3de4655b240854",
            "_model_module": "@jupyter-widgets/output"
          }
        },
        "a0c0bd1aa5f54c53bee60dd88262ec4f": {
          "model_module": "@jupyter-widgets/controls",
          "model_name": "LabelModel",
          "state": {
            "_view_name": "LabelView",
            "style": "IPY_MODEL_cd864579021f4fcfbc28f8d19f659ffc",
            "_dom_classes": [],
            "description": "",
            "_model_name": "LabelModel",
            "placeholder": "​",
            "_view_module": "@jupyter-widgets/controls",
            "_model_module_version": "1.5.0",
            "value": "Prediction: random; Probability: 0.9912",
            "_view_count": null,
            "_view_module_version": "1.5.0",
            "description_tooltip": null,
            "_model_module": "@jupyter-widgets/controls",
            "layout": "IPY_MODEL_75256a1f9e854fb687911f7b8b160ba7"
          }
        },
        "24f127111e2a4f768039478b6e2bd718": {
          "model_module": "@jupyter-widgets/controls",
          "model_name": "DescriptionStyleModel",
          "state": {
            "_view_name": "StyleView",
            "_model_name": "DescriptionStyleModel",
            "description_width": "",
            "_view_module": "@jupyter-widgets/base",
            "_model_module_version": "1.5.0",
            "_view_count": null,
            "_view_module_version": "1.2.0",
            "_model_module": "@jupyter-widgets/controls"
          }
        },
        "0425d79e1f8b420290f0deca5a918517": {
          "model_module": "@jupyter-widgets/base",
          "model_name": "LayoutModel",
          "state": {
            "_view_name": "LayoutView",
            "grid_template_rows": null,
            "right": null,
            "justify_content": null,
            "_view_module": "@jupyter-widgets/base",
            "overflow": null,
            "_model_module_version": "1.2.0",
            "_view_count": null,
            "flex_flow": null,
            "width": null,
            "min_width": null,
            "border": null,
            "align_items": null,
            "bottom": null,
            "_model_module": "@jupyter-widgets/base",
            "top": null,
            "grid_column": null,
            "overflow_y": null,
            "overflow_x": null,
            "grid_auto_flow": null,
            "grid_area": null,
            "grid_template_columns": null,
            "flex": null,
            "_model_name": "LayoutModel",
            "justify_items": null,
            "grid_row": null,
            "max_height": null,
            "align_content": null,
            "visibility": null,
            "align_self": null,
            "height": null,
            "min_height": null,
            "padding": null,
            "grid_auto_rows": null,
            "grid_gap": null,
            "max_width": null,
            "order": null,
            "_view_module_version": "1.2.0",
            "grid_template_areas": null,
            "object_position": null,
            "object_fit": null,
            "grid_auto_columns": null,
            "margin": null,
            "display": null,
            "left": null
          }
        },
        "8637f096f8a34c8eb0bc64884f9ef967": {
          "model_module": "@jupyter-widgets/controls",
          "model_name": "ButtonStyleModel",
          "state": {
            "_view_name": "StyleView",
            "_model_name": "ButtonStyleModel",
            "_view_module": "@jupyter-widgets/base",
            "_model_module_version": "1.5.0",
            "_view_count": null,
            "button_color": null,
            "font_weight": "",
            "_view_module_version": "1.2.0",
            "_model_module": "@jupyter-widgets/controls"
          }
        },
        "518c6ca7bd9d4cb6a064e16648306f35": {
          "model_module": "@jupyter-widgets/base",
          "model_name": "LayoutModel",
          "state": {
            "_view_name": "LayoutView",
            "grid_template_rows": null,
            "right": null,
            "justify_content": null,
            "_view_module": "@jupyter-widgets/base",
            "overflow": null,
            "_model_module_version": "1.2.0",
            "_view_count": null,
            "flex_flow": null,
            "width": null,
            "min_width": null,
            "border": null,
            "align_items": null,
            "bottom": null,
            "_model_module": "@jupyter-widgets/base",
            "top": null,
            "grid_column": null,
            "overflow_y": null,
            "overflow_x": null,
            "grid_auto_flow": null,
            "grid_area": null,
            "grid_template_columns": null,
            "flex": null,
            "_model_name": "LayoutModel",
            "justify_items": null,
            "grid_row": null,
            "max_height": null,
            "align_content": null,
            "visibility": null,
            "align_self": null,
            "height": null,
            "min_height": null,
            "padding": null,
            "grid_auto_rows": null,
            "grid_gap": null,
            "max_width": null,
            "order": null,
            "_view_module_version": "1.2.0",
            "grid_template_areas": null,
            "object_position": null,
            "object_fit": null,
            "grid_auto_columns": null,
            "margin": null,
            "display": null,
            "left": null
          }
        },
        "cd864579021f4fcfbc28f8d19f659ffc": {
          "model_module": "@jupyter-widgets/controls",
          "model_name": "DescriptionStyleModel",
          "state": {
            "_view_name": "StyleView",
            "_model_name": "DescriptionStyleModel",
            "description_width": "",
            "_view_module": "@jupyter-widgets/base",
            "_model_module_version": "1.5.0",
            "_view_count": null,
            "_view_module_version": "1.2.0",
            "_model_module": "@jupyter-widgets/controls"
          }
        },
        "75256a1f9e854fb687911f7b8b160ba7": {
          "model_module": "@jupyter-widgets/base",
          "model_name": "LayoutModel",
          "state": {
            "_view_name": "LayoutView",
            "grid_template_rows": null,
            "right": null,
            "justify_content": null,
            "_view_module": "@jupyter-widgets/base",
            "overflow": null,
            "_model_module_version": "1.2.0",
            "_view_count": null,
            "flex_flow": null,
            "width": null,
            "min_width": null,
            "border": null,
            "align_items": null,
            "bottom": null,
            "_model_module": "@jupyter-widgets/base",
            "top": null,
            "grid_column": null,
            "overflow_y": null,
            "overflow_x": null,
            "grid_auto_flow": null,
            "grid_area": null,
            "grid_template_columns": null,
            "flex": null,
            "_model_name": "LayoutModel",
            "justify_items": null,
            "grid_row": null,
            "max_height": null,
            "align_content": null,
            "visibility": null,
            "align_self": null,
            "height": null,
            "min_height": null,
            "padding": null,
            "grid_auto_rows": null,
            "grid_gap": null,
            "max_width": null,
            "order": null,
            "_view_module_version": "1.2.0",
            "grid_template_areas": null,
            "object_position": null,
            "object_fit": null,
            "grid_auto_columns": null,
            "margin": null,
            "display": null,
            "left": null
          }
        },
        "7904743064ae4116ac3de4655b240854": {
          "model_module": "@jupyter-widgets/base",
          "model_name": "LayoutModel",
          "state": {
            "_view_name": "LayoutView",
            "grid_template_rows": null,
            "right": null,
            "justify_content": null,
            "_view_module": "@jupyter-widgets/base",
            "overflow": null,
            "_model_module_version": "1.2.0",
            "_view_count": null,
            "flex_flow": null,
            "width": null,
            "min_width": null,
            "border": null,
            "align_items": null,
            "bottom": null,
            "_model_module": "@jupyter-widgets/base",
            "top": null,
            "grid_column": null,
            "overflow_y": null,
            "overflow_x": null,
            "grid_auto_flow": null,
            "grid_area": null,
            "grid_template_columns": null,
            "flex": null,
            "_model_name": "LayoutModel",
            "justify_items": null,
            "grid_row": null,
            "max_height": null,
            "align_content": null,
            "visibility": null,
            "align_self": null,
            "height": null,
            "min_height": null,
            "padding": null,
            "grid_auto_rows": null,
            "grid_gap": null,
            "max_width": null,
            "order": null,
            "_view_module_version": "1.2.0",
            "grid_template_areas": null,
            "object_position": null,
            "object_fit": null,
            "grid_auto_columns": null,
            "margin": null,
            "display": null,
            "left": null
          }
        }
      }
    }
  },
  "cells": [
    {
      "cell_type": "markdown",
      "metadata": {
        "id": "CuVnQJ_Acq0d"
      },
      "source": [
        "Hotdog Classifier Final"
      ]
    },
    {
      "cell_type": "code",
      "metadata": {
        "id": "iedkasTURY6s"
      },
      "source": [
        "path = Path()\r\n",
        "learn_inf = load_learner(path/'HotdogExport.pkl', cpu=True)\r\n",
        "btn_upload = widgets.FileUpload()\r\n",
        "out_pl = widgets.Output()\r\n",
        "lbl_pred = widgets.Label()"
      ],
      "execution_count": null,
      "outputs": []
    },
    {
      "cell_type": "markdown",
      "metadata": {
        "id": "n6jYYbIkRlA4"
      },
      "source": [
        ""
      ]
    },
    {
      "cell_type": "code",
      "metadata": {
        "id": "_cRiXct0Rd40"
      },
      "source": [
        "def on_data_change(change):\r\n",
        "    lbl_pred.value = ''\r\n",
        "    img = PILImage.create(btn_upload.data[-1])\r\n",
        "    out_pl.clear_output()\r\n",
        "    with out_pl: display(img.to_thumb(128,128))\r\n",
        "    pred,pred_idx,probs = learn_inf.predict(img)\r\n",
        "    lbl_pred.value = f'Prediction: {pred}; Probability: {probs[pred_idx]:.04f}'"
      ],
      "execution_count": null,
      "outputs": []
    },
    {
      "cell_type": "code",
      "metadata": {
        "id": "j-3U7XwBRhDx"
      },
      "source": [
        "btn_upload.observe(on_data_change, names=['data'])"
      ],
      "execution_count": null,
      "outputs": []
    },
    {
      "cell_type": "code",
      "metadata": {
        "id": "Jx-4EJv7RjMe",
        "colab": {
          "base_uri": "https://localhost:8080/",
          "height": 241,
          "referenced_widgets": [
            "442347bd8a5f4d7cb78a6df032c70163",
            "7c6f26dfa05546e6b6ed3a8314d45233",
            "5994b1d5c3804c3fbdbf0fe23a0a39c8",
            "7f8a139741aa47dcb36b0b9612d6730d",
            "ef72bd11654e4888bb60c7fdb3315233",
            "a0c0bd1aa5f54c53bee60dd88262ec4f",
            "24f127111e2a4f768039478b6e2bd718",
            "0425d79e1f8b420290f0deca5a918517",
            "8637f096f8a34c8eb0bc64884f9ef967",
            "518c6ca7bd9d4cb6a064e16648306f35",
            "cd864579021f4fcfbc28f8d19f659ffc",
            "75256a1f9e854fb687911f7b8b160ba7",
            "7904743064ae4116ac3de4655b240854"
          ]
        },
        "outputId": "394f5f4a-2bcd-45dc-ea73-cdd50ddfb0ba"
      },
      "source": [
        "display(VBox([widgets.Label('Is it really a hotdog?'), btn_upload, out_pl, lbl_pred]))"
      ],
      "execution_count": null,
      "outputs": [
        {
          "output_type": "display_data",
          "data": {
            "application/vnd.jupyter.widget-view+json": {
              "model_id": "442347bd8a5f4d7cb78a6df032c70163",
              "version_minor": 0,
              "version_major": 2
            },
            "text/plain": [
              "VBox(children=(Label(value='Select your bear!'), FileUpload(value={}, description='Upload'), Output(), Label(v…"
            ]
          },
          "metadata": {
            "tags": []
          }
        },
        {
          "output_type": "display_data",
          "data": {
            "text/html": [
              ""
            ],
            "text/plain": [
              "<IPython.core.display.HTML object>"
            ]
          },
          "metadata": {
            "tags": []
          }
        }
      ]
    }
  ]
}